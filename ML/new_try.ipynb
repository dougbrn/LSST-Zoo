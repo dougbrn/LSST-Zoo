{
 "cells": [
  {
   "cell_type": "markdown",
   "metadata": {},
   "source": [
    "# Preston's try"
   ]
  },
  {
   "cell_type": "code",
   "execution_count": 16,
   "metadata": {},
   "outputs": [],
   "source": [
    "import pandas as pd\n",
    "import numpy as np\n",
    "import json"
   ]
  },
  {
   "cell_type": "markdown",
   "metadata": {},
   "source": [
    "## Preparation"
   ]
  },
  {
   "cell_type": "code",
   "execution_count": 17,
   "metadata": {},
   "outputs": [],
   "source": [
    "# load parameters\n",
    "params_df = pd.read_csv(\"ML_param.csv\")\n",
    "# Just doing what the repo did\n",
    "del params_df['coord_dec'] \n",
    "del params_df['coord_ra']\n",
    "del params_df['id']\n",
    "del params_df['parent']"
   ]
  },
  {
   "cell_type": "code",
   "execution_count": 64,
   "metadata": {},
   "outputs": [],
   "source": [
    "# load classfication data\n",
    "data_df = pd.read_csv(\"../classifications/lsst_run_one.csv\")\n",
    "data_df.head()\n",
    "classify_df = data_df.loc[data_df['workflow_name'] == \"Difference Imaging Classifier\"]\n",
    "\n",
    "image_class = np.zeros(classify_df.shape[0], dtype='int, object')\n",
    "idx = 0\n",
    "for _, row in classify_df.iterrows():\n",
    "    s_data = json.loads(row.subject_data) #Subject Data\n",
    "    s_data = s_data.get(list(s_data.keys())[0])\n",
    "    # cut \"/home/......./cutout\" and \".png\"\n",
    "    image_num = s_data.get(list(s_data.keys())[1])[47:-4]\n",
    "    # annotations\n",
    "    a_data = json.loads(row.annotations)[0]\n",
    "    classification = a_data['value']\n",
    "    image_class[idx] = (int(image_num), classification)\n",
    "    idx += 1"
   ]
  },
  {
   "cell_type": "code",
   "execution_count": null,
   "metadata": {},
   "outputs": [],
   "source": []
  }
 ],
 "metadata": {
  "kernelspec": {
   "display_name": "Python 3",
   "language": "python",
   "name": "python3"
  },
  "language_info": {
   "codemirror_mode": {
    "name": "ipython",
    "version": 3
   },
   "file_extension": ".py",
   "mimetype": "text/x-python",
   "name": "python",
   "nbconvert_exporter": "python",
   "pygments_lexer": "ipython3",
   "version": "3.6.4"
  }
 },
 "nbformat": 4,
 "nbformat_minor": 2
}

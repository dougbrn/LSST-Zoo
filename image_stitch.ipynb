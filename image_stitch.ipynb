{
 "cells": [
  {
   "cell_type": "code",
   "execution_count": 1,
   "metadata": {
    "collapsed": false
   },
   "outputs": [],
   "source": [
    "%matplotlib inline\n",
    "\n",
    "import numpy as np\n",
    "import scipy.io\n",
    "import matplotlib.pyplot as plt\n",
    "from matplotlib import cm\n",
    "import astropy.visualization as vis\n",
    "import luptonRGB"
   ]
  },
  {
   "cell_type": "code",
   "execution_count": 2,
   "metadata": {
    "collapsed": false
   },
   "outputs": [
    {
     "data": {
      "text/plain": [
       "'\\nfor i in range(len(cutouts)):\\n    if not np.isnan(np.sum(cutouts[i][0])):\\n        template=cutouts[i][0]\\n        science=cutouts[i][1]\\n        difference=cutouts[i][2]\\n\\n        stitched_array=np.concatenate((template,science,difference),axis=1)\\n        minimum = stitched_array.min()\\n        Q=5\\n        scaled=luptonRGB.makeRGB(stitched_array,Q=Q,minimum=minimum)\\n        template=scaled[:,:20,0]\\n        science=scaled[:,21:41,0]\\n        difference=scaled[:,40:,0]\\n\\n        f, (ax1, ax2, ax3) = plt.subplots(1, 3)\\n\\n        ax1.imshow(template,cmap=cm.viridis,interpolation=\"none\")\\n        ax1.axis(\\'off\\')\\n        ax2.imshow(science,cmap=cm.viridis,interpolation=\"none\")\\n        ax2.axis(\\'off\\')\\n        ax3.imshow(difference,cmap=cm.viridis,interpolation=\"none\")\\n        ax3.axis(\\'off\\')\\n        plt.tight_layout(w_pad=-1.5)\\n        plt.savefig(\\'sub_sets/Asteroids/ast\\'+str(i)+\\'.jpg\\',bbox_inches=\\'tight\\')\\n        plt.close()\\n'"
      ]
     },
     "execution_count": 2,
     "metadata": {},
     "output_type": "execute_result"
    }
   ],
   "source": [
    "data=scipy.io.loadmat(\"cutouts_threedet_tracklets_303482\")\n",
    "cutouts=data[\"cutouts\"]\n",
    "Q=5\n",
    "\n",
    "for i in range(len(cutouts)):\n",
    "    if not np.isnan(np.sum(cutouts[i][0])):\n",
    "        template=cutouts[i][0]\n",
    "        science=cutouts[i][1]\n",
    "        difference=cutouts[i][2]\n",
    "\n",
    "        stitched_array=np.concatenate((template,science,difference),axis=1)\n",
    "        minimum = stitched_array.min()\n",
    "        Q=5\n",
    "        scaled=luptonRGB.makeRGB(stitched_array,Q=Q,minimum=minimum)\n",
    "        template=scaled[:,:20,0]\n",
    "        science=scaled[:,21:41,0]\n",
    "        difference=scaled[:,40:,0]\n",
    "\n",
    "        f, (ax1, ax2, ax3) = plt.subplots(1, 3)\n",
    "\n",
    "        ax1.imshow(template,cmap=cm.viridis,interpolation=\"none\")\n",
    "        ax1.axis('off')\n",
    "        ax2.imshow(science,cmap=cm.viridis,interpolation=\"none\")\n",
    "        ax2.axis('off')\n",
    "        ax3.imshow(difference,cmap=cm.viridis,interpolation=\"none\")\n",
    "        ax3.axis('off')\n",
    "        ax1.set_title(\"Template\")\n",
    "        ax2.set_title(\"Science\")\n",
    "        ax3.set_title(\"Difference\")\n",
    "        plt.tight_layout(w_pad=-1.5)\n",
    "        plt.savefig('sub_sets/Asteroids/ast'+str(i)+'.jpg',bbox_inches='tight')\n",
    "        plt.close()\n"
   ]
  },
  {
   "cell_type": "code",
   "execution_count": 3,
   "metadata": {
    "collapsed": false
   },
   "outputs": [],
   "source": [
    "#template\n",
    "#plt.imshow(cutouts[2][0],cmap=cm.viridis,interpolation=\"none\")"
   ]
  },
  {
   "cell_type": "code",
   "execution_count": 4,
   "metadata": {
    "collapsed": false
   },
   "outputs": [],
   "source": [
    "#science\n",
    "#plt.imshow(cutouts[2][1])"
   ]
  },
  {
   "cell_type": "code",
   "execution_count": 5,
   "metadata": {
    "collapsed": false
   },
   "outputs": [],
   "source": [
    "#difference\n",
    "#plt.imshow(cutouts[2][2])"
   ]
  },
  {
   "cell_type": "code",
   "execution_count": 7,
   "metadata": {
    "collapsed": false
   },
   "outputs": [
    {
     "data": {
      "image/png": "[encoded data removed]",
      "text/plain": [
       "<matplotlib.figure.Figure at 0xfb837b8>"
      ]
     },
     "metadata": {},
     "output_type": "display_data"
    }
   ],
   "source": [
    "#Scale arrays individually and then concatenate\n",
    "\n",
    "f, (ax1, ax2, ax3) = plt.subplots(1, 3)\n",
    "min_cut=0 #-1\n",
    "Q=5\n",
    "max_cut=0 #cutouts[8][0].max()\n",
    "tryRGB=True\n",
    "template=vis.scale_image(cutouts[8][0],min_cut=min_cut,max_cut=max_cut)\n",
    "science=vis.scale_image(cutouts[8][1],min_cut=min_cut,max_cut=max_cut)\n",
    "difference=vis.scale_image(cutouts[8][2],min_cut=min_cut,max_cut=None)\n",
    "\n",
    "if tryRGB==True:\n",
    "    template=cutouts[8][0]\n",
    "    science=cutouts[8][1]\n",
    "    difference=cutouts[8][2]\n",
    "    mintemp = template.min()\n",
    "    minsci = science.min()\n",
    "    mindiff = difference.min()\n",
    "    template = luptonRGB.makeRGB(template,Q=Q,minimum=mindiff)\n",
    "    science = luptonRGB.makeRGB(science,Q=Q,minimum=mindiff)\n",
    "    difference = luptonRGB.makeRGB(difference,Q=Q,minimum=mindiff)\n",
    "    \n",
    "ax1.imshow(template[:,:,0],cmap=cm.viridis,interpolation=\"none\")\n",
    "ax1.axis('off')\n",
    "ax2.imshow(science[:,:,0],cmap=cm.viridis,interpolation=\"none\")\n",
    "ax2.axis('off')\n",
    "ax3.imshow(difference[:,:,0],cmap=cm.viridis,interpolation=\"none\")\n",
    "ax3.axis('off')\n",
    "ax1.set_title(\"Template\")\n",
    "ax2.set_title(\"Science\")\n",
    "ax3.set_title(\"Difference\")\n",
    "plt.tight_layout(pad=-0.5, w_pad=-1.5, h_pad=-1.5)\n",
    "plt.savefig('sub_sets/test.jpg')\n",
    "\n",
    "#arcsinh scaling,log,sqrt\n"
   ]
  },
  {
   "cell_type": "code",
   "execution_count": 103,
   "metadata": {
    "collapsed": false
   },
   "outputs": [
    {
     "data": {
      "image/png": "[encoded data removed]",
      "text/plain": [
       "<matplotlib.figure.Figure at 0xad613748>"
      ]
     },
     "metadata": {},
     "output_type": "display_data"
    }
   ],
   "source": [
    "#Concatenate arrays and then scale\n",
    "\n",
    "template=cutouts[8][0]\n",
    "science=cutouts[8][1]\n",
    "difference=cutouts[8][2]\n",
    "\n",
    "stitched_array=np.concatenate((template,science,difference),axis=1)\n",
    "minimum = stitched_array.min()\n",
    "Q=5\n",
    "scaled=luptonRGB.makeRGB(stitched_array,Q=Q,minimum=minimum)\n",
    "template=scaled[:,:20,0]\n",
    "science=scaled[:,21:41,0]\n",
    "difference=scaled[:,40:,0]\n",
    "\n",
    "f, (ax1, ax2, ax3) = plt.subplots(1, 3)\n",
    "\n",
    "ax1.imshow(template,cmap=cm.viridis,interpolation=\"none\")\n",
    "ax1.axis('off')\n",
    "ax2.imshow(science,cmap=cm.viridis,interpolation=\"none\")\n",
    "ax2.axis('off')\n",
    "ax3.imshow(difference,cmap=cm.viridis,interpolation=\"none\")\n",
    "ax3.axis('off')\n",
    "plt.tight_layout(w_pad=-1.5)\n",
    "plt.savefig('sub_sets/test.jpg',bbox_inches='tight')"
   ]
  },
  {
   "cell_type": "code",
   "execution_count": 8,
   "metadata": {
    "collapsed": false
   },
   "outputs": [
    {
     "data": {
      "text/plain": [
       "<matplotlib.image.AxesImage at 0xf04bac8>"
      ]
     },
     "execution_count": 8,
     "metadata": {},
     "output_type": "execute_result"
    },
    {
     "data": {
      "image/png": "[encoded data removed]",
      "text/plain": [
       "<matplotlib.figure.Figure at 0xdfae390>"
      ]
     },
     "metadata": {},
     "output_type": "display_data"
    }
   ],
   "source": [
    "plt.imshow(scaled[:,:,0],cmap=cm.gray,interpolation=\"none\")\n"
   ]
  },
  {
   "cell_type": "code",
   "execution_count": 24,
   "metadata": {
    "collapsed": false
   },
   "outputs": [
    {
     "data": {
      "text/plain": [
       "array([[31, 24, 24, ..., 25, 21, 18],\n",
       "       [23, 21, 24, ..., 12, 31, 28],\n",
       "       [25, 26, 27, ..., 31, 21, 18],\n",
       "       ..., \n",
       "       [34, 40, 57, ..., 27, 17, 12],\n",
       "       [36, 38, 52, ..., 24, 24, 21],\n",
       "       [38, 39, 45, ..., 28, 25, 26]], dtype=uint8)"
      ]
     },
     "execution_count": 24,
     "metadata": {},
     "output_type": "execute_result"
    }
   ],
   "source": [
    "scaled[:,:,0]"
   ]
  },
  {
   "cell_type": "code",
   "execution_count": 27,
   "metadata": {
    "collapsed": false
   },
   "outputs": [],
   "source": [
    "luptonRGB.makeRGB?"
   ]
  },
  {
   "cell_type": "code",
   "execution_count": null,
   "metadata": {
    "collapsed": false
   },
   "outputs": [],
   "source": []
  },
  {
   "cell_type": "code",
   "execution_count": null,
   "metadata": {
    "collapsed": true
   },
   "outputs": [],
   "source": []
  }
 ],
 "metadata": {
  "kernelspec": {
   "display_name": "Python 2",
   "language": "python",
   "name": "python2"
  },
  "language_info": {
   "codemirror_mode": {
    "name": "ipython",
    "version": 2
   },
   "file_extension": ".py",
   "mimetype": "text/x-python",
   "name": "python",
   "nbconvert_exporter": "python",
   "pygments_lexer": "ipython2",
   "version": "2.7.11"
  }
 },
 "nbformat": 4,
 "nbformat_minor": 1
}
